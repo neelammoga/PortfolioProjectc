{
 "cells": [
  {
   "cell_type": "code",
   "execution_count": 53,
   "id": "92b6cc6a",
   "metadata": {},
   "outputs": [],
   "source": [
    "# import libraries \n",
    "\n",
    "from bs4 import BeautifulSoup\n",
    "import requests\n",
    "import time\n",
    "import datetime\n",
    "\n",
    "import smtplib"
   ]
  },
  {
   "cell_type": "code",
   "execution_count": 82,
   "id": "978b26f6",
   "metadata": {},
   "outputs": [
    {
     "name": "stdout",
     "output_type": "stream",
     "text": [
      "\n",
      "                   FRENCH & GABBANA Regular Round Neck Stylish Printed t Shirts for Men in Cotton\n",
      "                  \n",
      "\n",
      "                  ₹219.00\n",
      "                 \n"
     ]
    }
   ],
   "source": [
    "# Connect to Website and pull in data\n",
    "\n",
    "\n",
    "\n",
    "\n",
    "url=\"https://www.amazon.in/FRENCH-GABBANA-%E0%A4%AA%E0%A5%81%E0%A4%B0%E0%A5%81%E0%A4%B7%E0%A5%8B%E0%A4%82-%E0%A4%B0%E0%A5%87%E0%A4%97%E0%A5%81%E0%A4%B2%E0%A4%B0-%E0%A4%9F%E0%A5%80-%E0%A4%B6%E0%A4%B0%E0%A5%8D%E0%A4%9F/dp/B0B3KVL1GJ/ref=sr_1_3_sspa?crid=3HEIYX3SN5W44&keywords=black+t+shirt+for+men+styles&qid=1658399745&sprefix=shirt+shirt+t-shirt+bla%2Caps%2C430&sr=8-3-spons&psc=1&spLa=ZW5jcnlwdGVkUXVhbGlmaWVyPUEyUDE1NFNIWkM1MkczJmVuY3J5cHRlZElkPUEwNjM2MTU5MjJLSjM3NFNHVzkxOSZlbmNyeXB0ZWRBZElkPUEwMjczMTM4MjgzUk8yRVk3QlFMMCZ3aWRnZXROYW1lPXNwX2F0ZiZhY3Rpb249Y2xpY2tSZWRpcmVjdCZkb05vdExvZ0NsaWNrPXRydWU=\"\n",
    "headers={\"User-Agent\": \"Mozilla/5.0 (Windows NT 10.0; Win64; x64) AppleWebKit/537.36 (KHTML, like Gecko) Chrome/103.0.5060.114 Safari/537.36 Edg/103.0.1264.62\", \"Accept-Encoding\":\"gzip, deflate\", \"Accept\":\"text/html,application/xhtml+xml,application/xml;q=0.9,*/*;q=0.8\", \"DNT\":\"1\",\"Connection\":\"close\", \"Upgrade-Insecure-Requests\":\"1\"}\n",
    "page = requests.get(url, headers=headers)\n",
    "\n",
    "soup1 = BeautifulSoup(page.content, \"html.parser\")   \n",
    "soup2 = BeautifulSoup(soup1.prettify(),\"html.parser\")\n",
    "title=soup2.find(id=\"productTitle\").get_text()\n",
    "\n",
    "\n",
    "price=soup2.find('span',{\"class\":\"a-offscreen\"}).get_text()\n",
    "\n",
    "print(title)\n",
    "print(price)\n",
    "# print(soup1)"
   ]
  },
  {
   "cell_type": "code",
   "execution_count": 83,
   "id": "f9af5308",
   "metadata": {},
   "outputs": [
    {
     "name": "stdout",
     "output_type": "stream",
     "text": [
      "FRENCH & GABBANA Regular Round Neck Stylish Printed t Shirts for Men in Cotton\n",
      "219.00\n"
     ]
    }
   ],
   "source": [
    "# Clean up the data a little bit\n",
    "title1= title.strip()\n",
    "price1= price.strip()[1:]\n",
    "print(title1)\n",
    "print(price1)"
   ]
  },
  {
   "cell_type": "code",
   "execution_count": 57,
   "id": "fda5287e",
   "metadata": {},
   "outputs": [
    {
     "name": "stdout",
     "output_type": "stream",
     "text": [
      "2022-07-21\n"
     ]
    }
   ],
   "source": [
    "# Create a Timestamp for your output to track when data was collected\n",
    "\n",
    "import datetime\n",
    "\n",
    "today = datetime.date.today()\n",
    "\n",
    "print(today)"
   ]
  },
  {
   "cell_type": "code",
   "execution_count": 30,
   "id": "bc2a486c",
   "metadata": {},
   "outputs": [],
   "source": [
    "# Create CSV and write headers and data into the file\n",
    "\n",
    "import csv \n",
    "\n",
    "header = ['Title', 'Price', 'Date']\n",
    "data = [title, price, today]\n",
    "\n",
    "\n",
    "# with open('AmazonWebScraperDataset.csv', 'w', newline='', encoding='UTF8') as f:\n",
    "#     writer = csv.writer(f)\n",
    "#     writer.writerow(header)\n",
    "#     writer.writerow(data)"
   ]
  },
  {
   "cell_type": "code",
   "execution_count": 31,
   "id": "86801b0d",
   "metadata": {},
   "outputs": [
    {
     "name": "stdout",
     "output_type": "stream",
     "text": [
      "                                               Title  Price        Date\n",
      "0  FRENCH & GABBANA Regular Round Neck Stylish Pr...  335.0  2022-07-21\n"
     ]
    }
   ],
   "source": [
    "import pandas as pd\n",
    "\n",
    "df = pd.read_csv(r\"C:\\Users\\HP\\AmazonWebScraperDataset.csv\")\n",
    "\n",
    "print(df)"
   ]
  },
  {
   "cell_type": "code",
   "execution_count": 36,
   "id": "80b7b8ae",
   "metadata": {},
   "outputs": [],
   "source": [
    "#Now we are appending data to the csv\n",
    "\n",
    "with open('AmazonWebScraperDataset.csv', 'a+', newline='', encoding='UTF8') as f:\n",
    "    writer = csv.writer(f)\n",
    "    writer.writerow(data)"
   ]
  },
  {
   "cell_type": "code",
   "execution_count": 76,
   "id": "370cfe0a",
   "metadata": {},
   "outputs": [],
   "source": [
    "#Combine all of the above code into one function\n",
    "\n",
    "\n",
    "def check_price():\n",
    "    \n",
    "    url=\"https://www.amazon.in/FRENCH-GABBANA-%E0%A4%AA%E0%A5%81%E0%A4%B0%E0%A5%81%E0%A4%B7%E0%A5%8B%E0%A4%82-%E0%A4%B0%E0%A5%87%E0%A4%97%E0%A5%81%E0%A4%B2%E0%A4%B0-%E0%A4%9F%E0%A5%80-%E0%A4%B6%E0%A4%B0%E0%A5%8D%E0%A4%9F/dp/B0B3KVL1GJ/ref=sr_1_3_sspa?crid=3HEIYX3SN5W44&keywords=black+t+shirt+for+men+styles&qid=1658399745&sprefix=shirt+shirt+t-shirt+bla%2Caps%2C430&sr=8-3-spons&psc=1&spLa=ZW5jcnlwdGVkUXVhbGlmaWVyPUEyUDE1NFNIWkM1MkczJmVuY3J5cHRlZElkPUEwNjM2MTU5MjJLSjM3NFNHVzkxOSZlbmNyeXB0ZWRBZElkPUEwMjczMTM4MjgzUk8yRVk3QlFMMCZ3aWRnZXROYW1lPXNwX2F0ZiZhY3Rpb249Y2xpY2tSZWRpcmVjdCZkb05vdExvZ0NsaWNrPXRydWU=\"\n",
    "    headers={\"User-Agent\": \"Mozilla/5.0 (Windows NT 10.0; Win64; x64) AppleWebKit/537.36 (KHTML, like Gecko) Chrome/103.0.5060.114 Safari/537.36 Edg/103.0.1264.62\", \"Accept-Encoding\":\"gzip, deflate\", \"Accept\":\"text/html,application/xhtml+xml,application/xml;q=0.9,*/*;q=0.8\", \"DNT\":\"1\",\"Connection\":\"close\", \"Upgrade-Insecure-Requests\":\"1\"}\n",
    "    page = requests.get(url, headers=headers)\n",
    "    soup1 = BeautifulSoup(page.content, \"html.parser\")   \n",
    "    soup2 = BeautifulSoup(soup1.prettify(),\"html.parser\")\n",
    "    title=soup2.find(id=\"productTitle\").get_text()\n",
    "    price=soup2.find('span',{\"class\":\"a-offscreen\"}).get_text()\n",
    "    title = title.strip()\n",
    "    price = price.strip()[1:]\n",
    "    import datetime\n",
    "    today = datetime.date.today()\n",
    "    import csv \n",
    "    header = ['Title', 'Price', 'Date']\n",
    "    data = [title, price, today]\n",
    "    with open('AmazonWebScraperDataset.csv', 'a+', newline='', encoding='UTF8') as f:\n",
    "        writer = csv.writer(f)\n",
    "        writer.writerow(data)\n",
    "\n",
    "\n",
    "\n",
    "\n"
   ]
  },
  {
   "cell_type": "code",
   "execution_count": 80,
   "id": "9dcf49ce",
   "metadata": {},
   "outputs": [
    {
     "ename": "KeyboardInterrupt",
     "evalue": "",
     "output_type": "error",
     "traceback": [
      "\u001b[1;31m---------------------------------------------------------------------------\u001b[0m",
      "\u001b[1;31mKeyboardInterrupt\u001b[0m                         Traceback (most recent call last)",
      "\u001b[1;32m~\\AppData\\Local\\Temp/ipykernel_21592/264273630.py\u001b[0m in \u001b[0;36m<module>\u001b[1;34m\u001b[0m\n\u001b[0;32m      3\u001b[0m \u001b[1;32mwhile\u001b[0m\u001b[1;33m(\u001b[0m\u001b[1;32mTrue\u001b[0m\u001b[1;33m)\u001b[0m\u001b[1;33m:\u001b[0m\u001b[1;33m\u001b[0m\u001b[1;33m\u001b[0m\u001b[0m\n\u001b[0;32m      4\u001b[0m     \u001b[0mcheck_price\u001b[0m\u001b[1;33m(\u001b[0m\u001b[1;33m)\u001b[0m\u001b[1;33m\u001b[0m\u001b[1;33m\u001b[0m\u001b[0m\n\u001b[1;32m----> 5\u001b[1;33m     \u001b[0mtime\u001b[0m\u001b[1;33m.\u001b[0m\u001b[0msleep\u001b[0m\u001b[1;33m(\u001b[0m\u001b[1;36m5\u001b[0m\u001b[1;33m)\u001b[0m\u001b[1;33m\u001b[0m\u001b[1;33m\u001b[0m\u001b[0m\n\u001b[0m",
      "\u001b[1;31mKeyboardInterrupt\u001b[0m: "
     ]
    }
   ],
   "source": [
    "# Runs check_price after a set time and inputs data into your CSV\n",
    "\n",
    "while(True):\n",
    "    check_price()\n",
    "    time.sleep(5)\n"
   ]
  },
  {
   "cell_type": "code",
   "execution_count": 81,
   "id": "c27aff1e",
   "metadata": {},
   "outputs": [
    {
     "name": "stdout",
     "output_type": "stream",
     "text": [
      "                                                Title  Price        Date\n",
      "0   FRENCH & GABBANA Regular Round Neck Stylish Pr...  335.0  2022-07-21\n",
      "1   FRENCH & GABBANA Regular Round Neck Stylish Pr...  335.0  2022-07-21\n",
      "2   FRENCH & GABBANA Regular Round Neck Stylish Pr...  219.0  2022-07-21\n",
      "3   FRENCH & GABBANA Regular Round Neck Stylish Pr...  219.0  2022-07-21\n",
      "4   FRENCH & GABBANA Regular Round Neck Stylish Pr...  219.0  2022-07-21\n",
      "5   FRENCH & GABBANA Regular Round Neck Stylish Pr...  219.0  2022-07-21\n",
      "6   FRENCH & GABBANA Regular Round Neck Stylish Pr...  219.0  2022-07-21\n",
      "7   FRENCH & GABBANA Regular Round Neck Stylish Pr...  219.0  2022-07-21\n",
      "8   FRENCH & GABBANA Regular Round Neck Stylish Pr...  219.0  2022-07-21\n",
      "9   FRENCH & GABBANA Regular Round Neck Stylish Pr...  219.0  2022-07-21\n",
      "10  FRENCH & GABBANA Regular Round Neck Stylish Pr...  219.0  2022-07-21\n",
      "11  FRENCH & GABBANA Regular Round Neck Stylish Pr...  219.0  2022-07-21\n"
     ]
    }
   ],
   "source": [
    "import pandas as pd\n",
    "\n",
    "df = pd.read_csv(r\"C:\\Users\\HP\\AmazonWebScraperDataset.csv\")\n",
    "\n",
    "print(df)"
   ]
  },
  {
   "cell_type": "code",
   "execution_count": null,
   "id": "150edbb7",
   "metadata": {},
   "outputs": [],
   "source": []
  }
 ],
 "metadata": {
  "kernelspec": {
   "display_name": "Python 3 (ipykernel)",
   "language": "python",
   "name": "python3"
  },
  "language_info": {
   "codemirror_mode": {
    "name": "ipython",
    "version": 3
   },
   "file_extension": ".py",
   "mimetype": "text/x-python",
   "name": "python",
   "nbconvert_exporter": "python",
   "pygments_lexer": "ipython3",
   "version": "3.9.7"
  }
 },
 "nbformat": 4,
 "nbformat_minor": 5
}
